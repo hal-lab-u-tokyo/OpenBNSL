{
 "cells": [
  {
   "cell_type": "code",
   "execution_count": 1,
   "metadata": {},
   "outputs": [
    {
     "name": "stdout",
     "output_type": "stream",
     "text": [
      "test_bool: <class 'bool'>\n",
      "test_int: <class 'int'>\n",
      "test_unsigned_int: <class 'int'>\n",
      "test_long: <class 'int'>\n",
      "test_unsigned_long: <class 'int'>\n",
      "test_float: <class 'float'>\n",
      "test_double: <class 'float'>\n",
      "test_string: <class 'str'>\n",
      "test_pair_int: <class 'tuple'> (1, 2)\n",
      "test_tuple_int: <class 'tuple'> (1, 2, 3)\n",
      "test_vector_int: <class 'list'> [1, 2, 3, 4, 5]\n",
      "test_array_int: <class 'list'> [1, 1, 1, 1, 1, 1, 1, 1, 1, 1]\n",
      "test_map_string_int: <class 'dict'> {'a': 1, 'b': 2}\n",
      "test_unordered_map_string_int: <class 'dict'> {'y': 20, 'x': 10}\n",
      "test_set_int: <class 'set'> {1, 2, 3}\n",
      "test_function_int_int: <class 'builtin_function_or_method'>\n"
     ]
    }
   ],
   "source": [
    "import openbnsllib\n",
    "\n",
    "# bool\n",
    "print(\"test_bool:\", type(openbnsllib.test_bool(True)))  # <class 'bool'>\n",
    "\n",
    "# int\n",
    "print(\"test_int:\", type(openbnsllib.test_int(42)))  # <class 'int'>\n",
    "\n",
    "# unsigned int\n",
    "print(\"test_unsigned_int:\", type(openbnsllib.test_unsigned_int(42)))  # <class 'int'>\n",
    "\n",
    "# long\n",
    "print(\"test_long:\", type(openbnsllib.test_long(42)))  # <class 'int'>\n",
    "\n",
    "# unsigned long\n",
    "print(\"test_unsigned_long:\", type(openbnsllib.test_unsigned_long(42)))  # <class 'int'>\n",
    "\n",
    "# float\n",
    "print(\"test_float:\", type(openbnsllib.test_float(3.14)))  # <class 'float'>\n",
    "\n",
    "# double\n",
    "print(\"test_double:\", type(openbnsllib.test_double(3.14)))  # <class 'float'>\n",
    "\n",
    "# string\n",
    "print(\"test_string:\", type(openbnsllib.test_string(\"hello\")))  # <class 'str'>\n",
    "\n",
    "# pair<int, int>\n",
    "result = openbnsllib.test_pair_int((1, 2))\n",
    "print(\"test_pair_int:\", type(result), result)  # <class 'tuple'> (1, 2)\n",
    "\n",
    "# tuple<int, int, int>\n",
    "result = openbnsllib.test_tuple_int((1, 2, 3))\n",
    "print(\"test_tuple_int:\", type(result), result)  # <class 'tuple'> (1, 2, 3)}\n",
    "\n",
    "# vector<int>\n",
    "result = openbnsllib.test_vector_int([1, 2, 3, 4, 5])\n",
    "print(\"test_vector_int:\", type(result), result)  # <class 'list'> [1, 2, 3, 4, 5]\n",
    "\n",
    "# array<int, N>\n",
    "result = openbnsllib.test_array_int([1] * 10)\n",
    "print(\"test_array_int:\", type(result), result)  # <class 'list'> [1, 1, 1, 1, 1, 1, 1, 1, 1, 1]\n",
    "\n",
    "# map<string, int>\n",
    "result = openbnsllib.test_map_string_int({\"a\": 1, \"b\": 2})\n",
    "print(\"test_map_string_int:\", type(result), result)  # <class 'dict'> {'a': 1, 'b': 2}\n",
    "\n",
    "# unordered_map<string, int>\n",
    "result = openbnsllib.test_unordered_map_string_int({\"x\": 10, \"y\": 20})\n",
    "print(\"test_unordered_map_string_int:\", type(result), result)  # <class 'dict'> {'x': 10, 'y': 20}\n",
    "\n",
    "# set<int>\n",
    "result = openbnsllib.test_set_int({1, 2, 3})\n",
    "print(\"test_set_int:\", type(result), result)  # <class 'set'> {1, 2, 3}\n",
    "\n",
    "# function<int(int)>\n",
    "func = lambda x: x * 2\n",
    "print(\"test_function_int_int:\", type(openbnsllib.test_function_int_int(func)))  # <class 'function'>"
   ]
  },
  {
   "cell_type": "code",
   "execution_count": null,
   "metadata": {},
   "outputs": [],
   "source": []
  },
  {
   "cell_type": "code",
   "execution_count": null,
   "metadata": {},
   "outputs": [],
   "source": []
  }
 ],
 "metadata": {
  "kernelspec": {
   "display_name": "Python 3 (ipykernel)",
   "language": "python",
   "name": "python3"
  },
  "language_info": {
   "codemirror_mode": {
    "name": "ipython",
    "version": 3
   },
   "file_extension": ".py",
   "mimetype": "text/x-python",
   "name": "python",
   "nbconvert_exporter": "python",
   "pygments_lexer": "ipython3",
   "version": "3.10.12"
  }
 },
 "nbformat": 4,
 "nbformat_minor": 2
}
